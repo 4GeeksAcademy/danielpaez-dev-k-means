{
    "cells": [
        {
            "cell_type": "markdown",
            "metadata": {},
            "source": [
                "# K-Means Project - No Supervised Learning"
            ]
        },
        {
            "cell_type": "markdown",
            "metadata": {},
            "source": [
                "## Table of Contents\n",
                "### Explore Data Analysis (EDA)"
            ]
        },
        {
            "cell_type": "markdown",
            "metadata": {},
            "source": [
                "* [0. Problem Statement](#co)\n",
                "* [1. Importing libraries](#c1)\n",
                "* [2. Data Collection](#c2)\n",
                "* [3. Exploration and Data Cleaning](#c3)\n",
                "  * [3.1 Drop Duplicate Information](#c3-1)\n",
                "  * [3.2 Drop Irrelevant Information](#c3-2)\n",
                "* [4. Univariate Analysis](#c4)\n",
                "  * [4.1 Dividing our dataset into categorical and numerical](#c4-1)\n",
                "  * [4.2 Categorical Variable Analysis](#c4-2)\n",
                "  * [4.3 Numerical Variable Analysis](#c4-3)\n",
                "* [5. Multivariate Analysis](#c5)\n",
                "  * [5.1 Encoding Categorical Values and Saving JSON Files](#c5-1)\n",
                "  * [5.2 Numerical-Categorical Analysis](#c5-2)\n",
                "* [6. Feature Engineering](#c6)\n",
                "  * [6.1 New Feature Inference](#c6-1)\n",
                "  * [6.2 Outliers Analysis](#c6-2)\n",
                "  * [6.3 Missing Values Analysis](#c6-3)\n",
                "  * [6.4 Split train/test of both Data Frames](#c6-4)\n",
                "* [7. Data Processing](#c7)\n",
                "  * [7.1 Normalization](#c7-1)\n",
                "  * [7.2 Minmax Scalation](#c7-2)"
            ]
        },
        {
            "cell_type": "markdown",
            "metadata": {},
            "source": [
                "### Machine Learning"
            ]
        },
        {
            "cell_type": "markdown",
            "metadata": {},
            "source": [
                "* [8. Machine Learning](#c8)\n",
                "  * [8.1 Which is the best dataset?](#c8-1)\n",
                "  * [8.2 Model Optimization](#c8-2)\n",
                "  * [8.3 Evaluation of the Model](#c8-3)"
            ]
        },
        {
            "cell_type": "markdown",
            "metadata": {},
            "source": [
                "## 0. Problem Statement <a id='c0'></a>\n",
                "\n",
                "The objective of this exercise is to conduct an in-depth EDA analysis and develop a no supervised K-means model to classify houses according to region and average income."
            ]
        },
        {
            "cell_type": "markdown",
            "metadata": {},
            "source": [
                "## 1. Importing libraries <a id='c1'></a>"
            ]
        },
        {
            "cell_type": "code",
            "execution_count": 3,
            "metadata": {},
            "outputs": [],
            "source": [
                "import pandas as pd\n",
                "import matplotlib.pyplot as plt\n",
                "import seaborn as sns\n",
                "import numpy as np\n",
                "import os\n",
                "import json\n",
                "import warnings\n",
                "import pickle\n",
                "from pickle import dump\n",
                "\n",
                "\n",
                "def warn(*args, **kwargs):\n",
                "    pass\n",
                "warnings.warn = warn\n",
                "warnings.filterwarnings(\"ignore\", category=FutureWarning)\n",
                "pd.set_option('display.max_columns', None)"
            ]
        },
        {
            "cell_type": "markdown",
            "metadata": {},
            "source": [
                "## 2. Data Collection <a id='c2'></a>"
            ]
        },
        {
            "cell_type": "code",
            "execution_count": 4,
            "metadata": {},
            "outputs": [
                {
                    "name": "stdout",
                    "output_type": "stream",
                    "text": [
                        "   MedInc  HouseAge  AveRooms  AveBedrms  Population  AveOccup  Latitude  \\\n",
                        "0  8.3252      41.0  6.984127   1.023810       322.0  2.555556     37.88   \n",
                        "1  8.3014      21.0  6.238137   0.971880      2401.0  2.109842     37.86   \n",
                        "2  7.2574      52.0  8.288136   1.073446       496.0  2.802260     37.85   \n",
                        "3  5.6431      52.0  5.817352   1.073059       558.0  2.547945     37.85   \n",
                        "4  3.8462      52.0  6.281853   1.081081       565.0  2.181467     37.85   \n",
                        "\n",
                        "   Longitude  MedHouseVal  \n",
                        "0    -122.23        4.526  \n",
                        "1    -122.22        3.585  \n",
                        "2    -122.24        3.521  \n",
                        "3    -122.25        3.413  \n",
                        "4    -122.25        3.422  \n"
                    ]
                }
            ],
            "source": [
                "URL = 'https://raw.githubusercontent.com/4GeeksAcademy/k-means-project-tutorial/main/housing.csv'\n",
                "\n",
                "def get_data(URL:str) -> pd.DataFrame:\n",
                "    total_data = pd.read_csv(URL, sep=',')\n",
                "    total_data.head()\n",
                "    return total_data\n",
                "\n",
                "get_data(URL)\n",
                "total_data = get_data(URL)\n",
                "print(total_data.head())"
            ]
        },
        {
            "cell_type": "markdown",
            "metadata": {},
            "source": [
                "## 3. Exploration and Data Cleaning <a id='c3'></a>"
            ]
        },
        {
            "cell_type": "markdown",
            "metadata": {},
            "source": [
                "#### 3.1 Drop Null Values <a id='c3-1'></a>"
            ]
        },
        {
            "cell_type": "markdown",
            "metadata": {},
            "source": [
                "Since there is no null values, we won't delete any data."
            ]
        },
        {
            "cell_type": "code",
            "execution_count": 5,
            "metadata": {},
            "outputs": [
                {
                    "data": {
                        "text/plain": [
                            "MedInc         0\n",
                            "HouseAge       0\n",
                            "AveRooms       0\n",
                            "AveBedrms      0\n",
                            "Population     0\n",
                            "AveOccup       0\n",
                            "Latitude       0\n",
                            "Longitude      0\n",
                            "MedHouseVal    0\n",
                            "dtype: int64"
                        ]
                    },
                    "execution_count": 5,
                    "metadata": {},
                    "output_type": "execute_result"
                }
            ],
            "source": [
                "total_data.isna().sum()"
            ]
        },
        {
            "cell_type": "markdown",
            "metadata": {},
            "source": [
                "#### 3.2 Drop Duplicate Information <a id='c3-2'></a>"
            ]
        },
        {
            "cell_type": "markdown",
            "metadata": {},
            "source": [
                "Since there is duplicated rows we'll delete them"
            ]
        },
        {
            "cell_type": "code",
            "execution_count": 6,
            "metadata": {},
            "outputs": [
                {
                    "name": "stdout",
                    "output_type": "stream",
                    "text": [
                        "We have 0 rows of 20640\n"
                    ]
                }
            ],
            "source": [
                "rows = total_data.shape[0]\n",
                "duplicated_rows = total_data.duplicated().sum()\n",
                "print(f'We have {duplicated_rows} rows of {rows}')"
            ]
        },
        {
            "cell_type": "markdown",
            "metadata": {},
            "source": [
                "#### 3.3 Drop Irrelevant Information <a id='c3-3'></a>"
            ]
        },
        {
            "cell_type": "code",
            "execution_count": 7,
            "metadata": {},
            "outputs": [
                {
                    "name": "stdout",
                    "output_type": "stream",
                    "text": [
                        "   Latitude  Longitude  MedInc\n",
                        "0     37.88    -122.23  8.3252\n",
                        "1     37.86    -122.22  8.3014\n",
                        "2     37.85    -122.24  7.2574\n",
                        "3     37.85    -122.25  5.6431\n",
                        "4     37.85    -122.25  3.8462\n"
                    ]
                }
            ],
            "source": [
                "important_columns = ['Latitude', 'Longitude', 'MedInc']\n",
                "clean_data = total_data[important_columns]\n",
                "print(clean_data.head())"
            ]
        }
    ],
    "metadata": {
        "kernelspec": {
            "display_name": "Python 3",
            "language": "python",
            "name": "python3"
        },
        "language_info": {
            "codemirror_mode": {
                "name": "ipython",
                "version": 3
            },
            "file_extension": ".py",
            "mimetype": "text/x-python",
            "name": "python",
            "nbconvert_exporter": "python",
            "pygments_lexer": "ipython3",
            "version": "3.13.7"
        },
        "orig_nbformat": 4
    },
    "nbformat": 4,
    "nbformat_minor": 2
}
